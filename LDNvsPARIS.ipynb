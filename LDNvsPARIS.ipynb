{
 "cells": [
  {
   "cell_type": "markdown",
   "metadata": {},
   "source": [
    "\n",
    "\n",
    "<h1 align=center><font size = 5>LONDON VS PARIS</font></h1>"
   ]
  },
  {
   "cell_type": "markdown",
   "metadata": {},
   "source": [
    "## Introduction\n",
    "\n",
    "Among the best cities to visit in Europe, Paris and London are two historical cities that are well rated. It is sure that, we don't have the same criteria to state how much we like a city over an other. The reasons can be very diverse from one person to another. Something is certain, if not ,let's make it an assumption, What   people may like in a city is about how they can enjoy themselves there : food, drink, art, culture, park, nightlife and so on... To put in a nutshell, people may be interested in the type of activities they can have. One can relevantly wonders if London and Paris meet this expectation. We will not discuss demography data in this project.\n",
    "Furthermore,as far as tourism is concerned, weather is also an important subject. The impact of weather on tourism may depends on various parameters such as precipitation, sun, temperature, most common day condition. We must also take into account that, the weather preference can differ with the kinds of activities that a tourist may pursue. You know what? Nevermind! To make it simple and less theoretical, Let's just assume that a blue sky is most appreciated than a grey one.\n",
    "A most spread idea is that London has a very bad weather and it rains pretty much there. Is it only a 'cliché'?\n",
    "Anyway, for people who want to enjoy outdoors under the sun, this might not be a positive intel.\n",
    "\n",
    "## Problem\n",
    "\n",
    "The main problem we will discuss is whether Paris is so different of London. \n",
    "We are going to argue how similar and dissimilar London and Paris are.\n",
    "\n",
    "## Target audience of the project\n",
    "\n",
    "The topic may interest anyone particularly prospective tourists who want to know the two cities and decide where to go for holidays.\n",
    "\n",
    "## How we are going to work\n",
    "\n",
    "To achieve our goal, our work will consist in two big parts. Firstly, we are going to explore both cities in order to discover the kind of attractions/stuffs one can enjoy in London and Paris. Then we are going to analyze and compare the weather is both cities.\n",
    "\n",
    "## Data\n",
    "\n",
    "The data we will need for this project are:\n",
    "  * list of stuffs/places/attraction of interest in both cities: We are going to leverage on the Foursquare API to get the information we need. It is very important that for each place we get the category that we can aggregate on.\n",
    "  * Historical weather data for last year: We will need for each day in 2018, the temperature,precipitation amount, presence of sun and the global day condition. We will use the worldweatheronline API to get our data.\n",
    "\n",
    "## METHODOLODY\n",
    "\n",
    "We will use the foursquare API to get the venues within 2000 meters for each town. We will set the limit of venues to 1000 just to make sure that we get all the venues available in the area. The result will be a JSON that from which we are going to extract the categories. We will need to redefine the categories so that we don't end up with 30 categories. We will discuss whether the repartition of venues is quite the same in both cities or not.\n",
    "Then, we are going to use the worldweatheronline API to get historical weather data for both towns. The result is a JSON from which we can extract for each day: average temperature, maximum temperature, minimum temperature, precipitation, day condition, total sun hour... Using these data, we are going to analyze and compare the weather of the two cities.\n",
    "\n",
    "\n"
   ]
  },
  {
   "cell_type": "markdown",
   "metadata": {},
   "source": [
    "# HERE WE GO\n",
    "\n",
    "\n",
    "Lets import the modules we need"
   ]
  },
  {
   "cell_type": "code",
   "execution_count": 2,
   "metadata": {},
   "outputs": [
    {
     "name": "stdout",
     "output_type": "stream",
     "text": [
      "Solving environment: done\n",
      "\n",
      "\n",
      "==> WARNING: A newer version of conda exists. <==\n",
      "  current version: 4.5.11\n",
      "  latest version: 4.7.12\n",
      "\n",
      "Please update conda by running\n",
      "\n",
      "    $ conda update -n base -c defaults conda\n",
      "\n",
      "\n",
      "\n",
      "## Package Plan ##\n",
      "\n",
      "  environment location: /home/jupyterlab/conda/envs/python\n",
      "\n",
      "  added / updated specs: \n",
      "    - geopy\n",
      "\n",
      "\n",
      "The following packages will be downloaded:\n",
      "\n",
      "    package                    |            build\n",
      "    ---------------------------|-----------------\n",
      "    certifi-2019.11.28         |           py36_0         149 KB  conda-forge\n",
      "    scikit-learn-0.20.1        |   py36h22eb022_0         5.7 MB\n",
      "    liblapack-3.8.0            |      11_openblas          10 KB  conda-forge\n",
      "    scipy-1.3.2                |   py36h921218d_0        18.0 MB  conda-forge\n",
      "    geographiclib-1.50         |             py_0          34 KB  conda-forge\n",
      "    libopenblas-0.3.6          |       h5a2b251_2         7.7 MB\n",
      "    liblapacke-3.8.0           |      11_openblas          10 KB  conda-forge\n",
      "    numpy-1.17.3               |   py36h95a1406_0         5.2 MB  conda-forge\n",
      "    libcblas-3.8.0             |      11_openblas          10 KB  conda-forge\n",
      "    libblas-3.8.0              |      11_openblas          10 KB  conda-forge\n",
      "    geopy-1.20.0               |             py_0          57 KB  conda-forge\n",
      "    blas-2.11                  |         openblas          10 KB  conda-forge\n",
      "    ------------------------------------------------------------\n",
      "                                           Total:        36.9 MB\n",
      "\n",
      "The following NEW packages will be INSTALLED:\n",
      "\n",
      "    geographiclib: 1.50-py_0                              conda-forge\n",
      "    geopy:         1.20.0-py_0                            conda-forge\n",
      "    libblas:       3.8.0-11_openblas                      conda-forge\n",
      "    libcblas:      3.8.0-11_openblas                      conda-forge\n",
      "    liblapack:     3.8.0-11_openblas                      conda-forge\n",
      "    liblapacke:    3.8.0-11_openblas                      conda-forge\n",
      "    libopenblas:   0.3.6-h5a2b251_2                                  \n",
      "\n",
      "The following packages will be UPDATED:\n",
      "\n",
      "    blas:          1.1-openblas                           conda-forge --> 2.11-openblas         conda-forge\n",
      "    certifi:       2019.9.11-py36_0                       conda-forge --> 2019.11.28-py36_0     conda-forge\n",
      "    numpy:         1.16.2-py36_blas_openblash1522bff_0    conda-forge [blas_openblas] --> 1.17.3-py36h95a1406_0 conda-forge\n",
      "    scipy:         1.2.1-py36_blas_openblash1522bff_0     conda-forge [blas_openblas] --> 1.3.2-py36h921218d_0  conda-forge\n",
      "\n",
      "The following packages will be DOWNGRADED:\n",
      "\n",
      "    scikit-learn:  0.20.1-py36_blas_openblashebff5e3_1200 conda-forge [blas_openblas] --> 0.20.1-py36h22eb022_0            \n",
      "\n",
      "\n",
      "Downloading and Extracting Packages\n",
      "certifi-2019.11.28   | 149 KB    | ##################################### | 100% \n",
      "scikit-learn-0.20.1  | 5.7 MB    | ##################################### | 100% \n",
      "liblapack-3.8.0      | 10 KB     | ##################################### | 100% \n",
      "scipy-1.3.2          | 18.0 MB   | ##################################### | 100% \n",
      "geographiclib-1.50   | 34 KB     | ##################################### | 100% \n",
      "libopenblas-0.3.6    | 7.7 MB    | ##################################### | 100% \n",
      "liblapacke-3.8.0     | 10 KB     | ##################################### | 100% \n",
      "numpy-1.17.3         | 5.2 MB    | ##################################### | 100% \n",
      "libcblas-3.8.0       | 10 KB     | ##################################### | 100% \n",
      "libblas-3.8.0        | 10 KB     | ##################################### | 100% \n",
      "geopy-1.20.0         | 57 KB     | ##################################### | 100% \n",
      "blas-2.11            | 10 KB     | ##################################### | 100% \n",
      "Preparing transaction: done\n",
      "Verifying transaction: done\n",
      "Executing transaction: done\n",
      "Libraries imported.\n"
     ]
    }
   ],
   "source": [
    "import numpy as np # library to handle data in a vectorized manner\n",
    "\n",
    "import pandas as pd # library for data analsysis\n",
    "pd.set_option('display.max_columns', None)\n",
    "pd.set_option('display.max_rows', None)\n",
    "\n",
    "import json # library to handle JSON files\n",
    "\n",
    "!conda install -c conda-forge geopy --yes \n",
    "from geopy.geocoders import Nominatim # convert an address into latitude and longitude values\n",
    "\n",
    "import requests # library to handle requests\n",
    "from pandas.io.json import json_normalize # tranform JSON file into a pandas dataframe\n",
    "\n",
    "# Matplotlib and associated plotting modules\n",
    "import matplotlib.cm as cm\n",
    "import matplotlib.colors as colors\n",
    "\n",
    "# import k-means from clustering stage\n",
    "from sklearn.cluster import KMeans\n",
    "\n",
    "#!conda install -c conda-forge folium=0.5.0 --yes \n",
    "#import folium # map rendering library\n",
    "\n",
    "print('Libraries imported.')"
   ]
  },
  {
   "cell_type": "markdown",
   "metadata": {},
   "source": [
    "<a id='item1'></a>"
   ]
  },
  {
   "cell_type": "markdown",
   "metadata": {},
   "source": [
    "## 1. Exploring both cities"
   ]
  },
  {
   "cell_type": "code",
   "execution_count": 3,
   "metadata": {
    "collapsed": false,
    "jupyter": {
     "outputs_hidden": false
    },
    "scrolled": true
   },
   "outputs": [],
   "source": [
    "#here is the function to get the coordinates of a city\n",
    "def get_geo_coor(address):\n",
    "    geolocator = Nominatim(user_agent=\"ny_explorer\")\n",
    "    location = geolocator.geocode(address)\n",
    "    latitude = location.latitude\n",
    "    longitude = location.longitude\n",
    "    print('The geograpical coordinate of {} are {}, {}.'.format(address,latitude, longitude))\n",
    "    return latitude,longitude"
   ]
  },
  {
   "cell_type": "code",
   "execution_count": 4,
   "metadata": {},
   "outputs": [
    {
     "name": "stdout",
     "output_type": "stream",
     "text": [
      "The geograpical coordinate of London, UK are 51.5073219, -0.1276474.\n",
      "The geograpical coordinate of Paris, FRANCE are 48.8566101, 2.3514992.\n"
     ]
    }
   ],
   "source": [
    "london_latitude , london_longitude = get_geo_coor('London, UK')\n",
    "paris_latitude , paris_longitude = get_geo_coor('Paris, FRANCE')"
   ]
  },
  {
   "cell_type": "markdown",
   "metadata": {},
   "source": [
    "#### Foursquare Credentials and Version"
   ]
  },
  {
   "cell_type": "code",
   "execution_count": 1,
   "metadata": {
    "collapsed": false,
    "jupyter": {
     "outputs_hidden": false
    }
   },
   "outputs": [
    {
     "name": "stdout",
     "output_type": "stream",
     "text": [
      "Your credentails:\n",
      "CLIENT_ID: -\n",
      "CLIENT_SECRET:-\n"
     ]
    }
   ],
   "source": [
    "\n",
    "CLIENT_ID = '-' #HIDDEN\n",
    "CLIENT_SECRET = '-' # your Foursquare Secret\n",
    "VERSION = '20201110'\n",
    "LIMIT = 30\n",
    "print('Your credentails:')\n",
    "print('CLIENT_ID: ' + CLIENT_ID)\n",
    "print('CLIENT_SECRET:' + CLIENT_SECRET)"
   ]
  },
  {
   "cell_type": "markdown",
   "metadata": {},
   "source": [
    "#### Now, let's get the top 1000 venues  within a radius of 1000 meters."
   ]
  },
  {
   "cell_type": "markdown",
   "metadata": {},
   "source": [
    "Defining  the function to get venues and their category. "
   ]
  },
  {
   "cell_type": "code",
   "execution_count": 7,
   "metadata": {},
   "outputs": [],
   "source": [
    "# function that extracts the category of the venue\n",
    "def get_category_type(row):\n",
    "    try:\n",
    "        categories_list = row['categories']\n",
    "    except:\n",
    "        categories_list = row['venue.categories']\n",
    "        \n",
    "    if len(categories_list) == 0:\n",
    "        return None\n",
    "    else:\n",
    "        return categories_list[0]['name']\n",
    "    \n",
    "def get_category_group(row):\n",
    "    try:\n",
    "        categories_list = row['categories']\n",
    "    except:\n",
    "        categories_list = row['venue.categories']\n",
    "        \n",
    "    if len(categories_list) == 0:\n",
    "        return None\n",
    "    else:\n",
    "        text= categories_list[0]['icon']['prefix']\n",
    "        text =text[text.index('categories_v2/')+14:]\n",
    "        text[:text.index('/')]\n",
    "        return text[:text.index('/')]\n",
    "    \n",
    "def get_venues(search_query,latitude,longitude,radius,LIMIT):\n",
    "    url = 'https://api.foursquare.com/v2/venues/search?client_id={}&client_secret={}&ll={},{}&v={}&query={}&radius={}&limit={}'.format(\n",
    "        CLIENT_ID, \n",
    "        CLIENT_SECRET, \n",
    "        latitude, \n",
    "        longitude, \n",
    "        VERSION, \n",
    "        search_query, \n",
    "        radius, LIMIT)\n",
    "\n",
    "   \n",
    "\n",
    "    \n",
    "    results = requests.get(url).json()\n",
    "    venues = results['response']['venues']\n",
    "    \n",
    "    nearby_venues = json_normalize(venues) # flatten JSON\n",
    "\n",
    "    # filter columns\n",
    "    #filtered_columns = ['venue.name', 'venue.categories', 'venue.location.lat', 'venue.location.lng']\n",
    "    #nearby_venues =nearby_venues.loc[:, filtered_columns]\n",
    "\n",
    "    # filter the category for each row\n",
    "    nearby_venues['categories_group'] = nearby_venues.apply(get_category_group, axis=1)\n",
    "    nearby_venues['categories'] = nearby_venues.apply(get_category_type, axis=1)\n",
    "\n",
    "    # clean columns\n",
    "    nearby_venues.columns = [col.split(\".\")[-1] for col in nearby_venues.columns]\n",
    "    nearby_venues = nearby_venues[['name','categories','categories_group','lat','lng']]\n",
    "\n",
    "    #print(nearby_venues.head())\n",
    "    return nearby_venues\n"
   ]
  },
  {
   "cell_type": "markdown",
   "metadata": {},
   "source": [
    "Now we are ready to clean the json and structure it into a *pandas* dataframe."
   ]
  },
  {
   "cell_type": "code",
   "execution_count": 8,
   "metadata": {
    "collapsed": false,
    "jupyter": {
     "outputs_hidden": false
    }
   },
   "outputs": [],
   "source": [
    "london_venues = get_venues('',london_latitude,london_longitude,2000,1000)\n",
    "paris_venues = get_venues('',paris_latitude,paris_longitude,2000,1000)"
   ]
  },
  {
   "cell_type": "markdown",
   "metadata": {},
   "source": [
    "## Let see  'categories_group'"
   ]
  },
  {
   "cell_type": "code",
   "execution_count": 10,
   "metadata": {},
   "outputs": [
    {
     "data": {
      "text/plain": [
       "0          parks_outdoors\n",
       "1                building\n",
       "2      arts_entertainment\n",
       "4                   shops\n",
       "8                    food\n",
       "10                 travel\n",
       "15              nightlife\n",
       "94              education\n",
       "107                  None\n",
       "120                 event\n",
       "Name: categories_group, dtype: object"
      ]
     },
     "execution_count": 10,
     "metadata": {},
     "output_type": "execute_result"
    }
   ],
   "source": [
    "london_venues.categories_group.drop_duplicates()"
   ]
  },
  {
   "cell_type": "markdown",
   "metadata": {},
   "source": [
    "<a id='item2'></a>"
   ]
  },
  {
   "cell_type": "code",
   "execution_count": 11,
   "metadata": {},
   "outputs": [
    {
     "data": {
      "text/plain": [
       "0         parks_outdoors\n",
       "2               building\n",
       "4     arts_entertainment\n",
       "5                  shops\n",
       "6                   food\n",
       "16                travel\n",
       "17                  None\n",
       "37             nightlife\n",
       "Name: categories_group, dtype: object"
      ]
     },
     "execution_count": 11,
     "metadata": {},
     "output_type": "execute_result"
    }
   ],
   "source": [
    "paris_venues.categories_group.drop_duplicates()"
   ]
  },
  {
   "cell_type": "markdown",
   "metadata": {},
   "source": [
    "## Number of each category in each town"
   ]
  },
  {
   "cell_type": "code",
   "execution_count": 27,
   "metadata": {},
   "outputs": [
    {
     "data": {
      "text/html": [
       "<div>\n",
       "<style scoped>\n",
       "    .dataframe tbody tr th:only-of-type {\n",
       "        vertical-align: middle;\n",
       "    }\n",
       "\n",
       "    .dataframe tbody tr th {\n",
       "        vertical-align: top;\n",
       "    }\n",
       "\n",
       "    .dataframe thead th {\n",
       "        text-align: right;\n",
       "    }\n",
       "</style>\n",
       "<table border=\"1\" class=\"dataframe\">\n",
       "  <thead>\n",
       "    <tr style=\"text-align: right;\">\n",
       "      <th></th>\n",
       "      <th>name</th>\n",
       "      <th>categories</th>\n",
       "      <th>lat</th>\n",
       "      <th>lng</th>\n",
       "      <th>london</th>\n",
       "    </tr>\n",
       "    <tr>\n",
       "      <th>categories_group</th>\n",
       "      <th></th>\n",
       "      <th></th>\n",
       "      <th></th>\n",
       "      <th></th>\n",
       "      <th></th>\n",
       "    </tr>\n",
       "  </thead>\n",
       "  <tbody>\n",
       "    <tr>\n",
       "      <th>building</th>\n",
       "      <td>44</td>\n",
       "      <td>44</td>\n",
       "      <td>44</td>\n",
       "      <td>44</td>\n",
       "      <td>44</td>\n",
       "    </tr>\n",
       "    <tr>\n",
       "      <th>shops</th>\n",
       "      <td>30</td>\n",
       "      <td>30</td>\n",
       "      <td>30</td>\n",
       "      <td>30</td>\n",
       "      <td>30</td>\n",
       "    </tr>\n",
       "    <tr>\n",
       "      <th>food</th>\n",
       "      <td>22</td>\n",
       "      <td>22</td>\n",
       "      <td>22</td>\n",
       "      <td>22</td>\n",
       "      <td>22</td>\n",
       "    </tr>\n",
       "    <tr>\n",
       "      <th>parks_outdoors</th>\n",
       "      <td>15</td>\n",
       "      <td>15</td>\n",
       "      <td>15</td>\n",
       "      <td>15</td>\n",
       "      <td>15</td>\n",
       "    </tr>\n",
       "    <tr>\n",
       "      <th>travel</th>\n",
       "      <td>13</td>\n",
       "      <td>13</td>\n",
       "      <td>13</td>\n",
       "      <td>13</td>\n",
       "      <td>13</td>\n",
       "    </tr>\n",
       "    <tr>\n",
       "      <th>nightlife</th>\n",
       "      <td>11</td>\n",
       "      <td>11</td>\n",
       "      <td>11</td>\n",
       "      <td>11</td>\n",
       "      <td>11</td>\n",
       "    </tr>\n",
       "    <tr>\n",
       "      <th>arts_entertainment</th>\n",
       "      <td>8</td>\n",
       "      <td>8</td>\n",
       "      <td>8</td>\n",
       "      <td>8</td>\n",
       "      <td>8</td>\n",
       "    </tr>\n",
       "    <tr>\n",
       "      <th>education</th>\n",
       "      <td>1</td>\n",
       "      <td>1</td>\n",
       "      <td>1</td>\n",
       "      <td>1</td>\n",
       "      <td>1</td>\n",
       "    </tr>\n",
       "    <tr>\n",
       "      <th>event</th>\n",
       "      <td>1</td>\n",
       "      <td>1</td>\n",
       "      <td>1</td>\n",
       "      <td>1</td>\n",
       "      <td>1</td>\n",
       "    </tr>\n",
       "  </tbody>\n",
       "</table>\n",
       "</div>"
      ],
      "text/plain": [
       "                    name  categories  lat  lng  london\n",
       "categories_group                                      \n",
       "building              44          44   44   44      44\n",
       "shops                 30          30   30   30      30\n",
       "food                  22          22   22   22      22\n",
       "parks_outdoors        15          15   15   15      15\n",
       "travel                13          13   13   13      13\n",
       "nightlife             11          11   11   11      11\n",
       "arts_entertainment     8           8    8    8       8\n",
       "education              1           1    1    1       1\n",
       "event                  1           1    1    1       1"
      ]
     },
     "execution_count": 27,
     "metadata": {},
     "output_type": "execute_result"
    }
   ],
   "source": [
    "london_group = london_venues.groupby('categories_group').count().sort_values(by='name',ascending=False)\n",
    "#london_group['london']=london_group['name'].apply(lambda x: round(x/london_venues.shape[0]*100,2))\n",
    "london_group['london']=london_group['name'].apply(lambda x: int(x))\n",
    "london_group"
   ]
  },
  {
   "cell_type": "code",
   "execution_count": 26,
   "metadata": {},
   "outputs": [
    {
     "data": {
      "text/html": [
       "<div>\n",
       "<style scoped>\n",
       "    .dataframe tbody tr th:only-of-type {\n",
       "        vertical-align: middle;\n",
       "    }\n",
       "\n",
       "    .dataframe tbody tr th {\n",
       "        vertical-align: top;\n",
       "    }\n",
       "\n",
       "    .dataframe thead th {\n",
       "        text-align: right;\n",
       "    }\n",
       "</style>\n",
       "<table border=\"1\" class=\"dataframe\">\n",
       "  <thead>\n",
       "    <tr style=\"text-align: right;\">\n",
       "      <th></th>\n",
       "      <th>name</th>\n",
       "      <th>categories</th>\n",
       "      <th>lat</th>\n",
       "      <th>lng</th>\n",
       "      <th>paris</th>\n",
       "    </tr>\n",
       "    <tr>\n",
       "      <th>categories_group</th>\n",
       "      <th></th>\n",
       "      <th></th>\n",
       "      <th></th>\n",
       "      <th></th>\n",
       "      <th></th>\n",
       "    </tr>\n",
       "  </thead>\n",
       "  <tbody>\n",
       "    <tr>\n",
       "      <th>shops</th>\n",
       "      <td>13</td>\n",
       "      <td>13</td>\n",
       "      <td>13</td>\n",
       "      <td>13</td>\n",
       "      <td>13</td>\n",
       "    </tr>\n",
       "    <tr>\n",
       "      <th>building</th>\n",
       "      <td>9</td>\n",
       "      <td>9</td>\n",
       "      <td>9</td>\n",
       "      <td>9</td>\n",
       "      <td>9</td>\n",
       "    </tr>\n",
       "    <tr>\n",
       "      <th>food</th>\n",
       "      <td>9</td>\n",
       "      <td>9</td>\n",
       "      <td>9</td>\n",
       "      <td>9</td>\n",
       "      <td>9</td>\n",
       "    </tr>\n",
       "    <tr>\n",
       "      <th>parks_outdoors</th>\n",
       "      <td>5</td>\n",
       "      <td>5</td>\n",
       "      <td>5</td>\n",
       "      <td>5</td>\n",
       "      <td>5</td>\n",
       "    </tr>\n",
       "    <tr>\n",
       "      <th>travel</th>\n",
       "      <td>5</td>\n",
       "      <td>5</td>\n",
       "      <td>5</td>\n",
       "      <td>5</td>\n",
       "      <td>5</td>\n",
       "    </tr>\n",
       "    <tr>\n",
       "      <th>arts_entertainment</th>\n",
       "      <td>1</td>\n",
       "      <td>1</td>\n",
       "      <td>1</td>\n",
       "      <td>1</td>\n",
       "      <td>1</td>\n",
       "    </tr>\n",
       "    <tr>\n",
       "      <th>nightlife</th>\n",
       "      <td>1</td>\n",
       "      <td>1</td>\n",
       "      <td>1</td>\n",
       "      <td>1</td>\n",
       "      <td>1</td>\n",
       "    </tr>\n",
       "  </tbody>\n",
       "</table>\n",
       "</div>"
      ],
      "text/plain": [
       "                    name  categories  lat  lng  paris\n",
       "categories_group                                     \n",
       "shops                 13          13   13   13     13\n",
       "building               9           9    9    9      9\n",
       "food                   9           9    9    9      9\n",
       "parks_outdoors         5           5    5    5      5\n",
       "travel                 5           5    5    5      5\n",
       "arts_entertainment     1           1    1    1      1\n",
       "nightlife              1           1    1    1      1"
      ]
     },
     "execution_count": 26,
     "metadata": {},
     "output_type": "execute_result"
    }
   ],
   "source": [
    "paris_group = paris_venues.groupby('categories_group').count().sort_values(by='name',ascending=False)\n",
    "#paris_group['paris']=paris_group['name'].apply(lambda x: round(x/paris_venues.shape[0]*100,2))\n",
    "paris_group['paris']=paris_group['name'].apply(lambda x: int(x))\n",
    "paris_group"
   ]
  },
  {
   "cell_type": "code",
   "execution_count": 28,
   "metadata": {},
   "outputs": [],
   "source": [
    "town_activities = pd.merge(paris_group, london_group, left_on='categories_group',right_on='categories_group')[['paris','london']]"
   ]
  },
  {
   "cell_type": "code",
   "execution_count": 30,
   "metadata": {},
   "outputs": [
    {
     "data": {
      "text/plain": [
       "Text(0, 0.5, 'Number')"
      ]
     },
     "execution_count": 30,
     "metadata": {},
     "output_type": "execute_result"
    },
    {
     "data": {
      "image/png": "[encoded data removed]",
      "text/plain": [
       "<Figure size 432x288 with 1 Axes>"
      ]
     },
     "metadata": {
      "needs_background": "light"
     },
     "output_type": "display_data"
    }
   ],
   "source": [
    "ax = town_activities.plot.bar(title='Venues Categories')\n",
    "ax.set_xlabel(\"\")\n",
    "ax.set_ylabel(\"Number\")"
   ]
  },
  {
   "cell_type": "markdown",
   "metadata": {},
   "source": [
    "## Comment"
   ]
  },
  {
   "cell_type": "markdown",
   "metadata": {},
   "source": [
    "We obviously see that there are more places of interest in London than in Paris. It is important to know that London is ten time bigger than Paris. We are just comparing the area between 2km from the center of both cities.\n",
    "\n",
    "Lets see instead the percentage of each category in each cities.\n",
    "\n"
   ]
  },
  {
   "cell_type": "code",
   "execution_count": 31,
   "metadata": {},
   "outputs": [
    {
     "data": {
      "text/plain": [
       "Text(0, 0.5, 'PCt %')"
      ]
     },
     "execution_count": 31,
     "metadata": {},
     "output_type": "execute_result"
    },
    {
     "data": {
      "image/png": "[encoded data removed]",
      "text/plain": [
       "<Figure size 432x288 with 1 Axes>"
      ]
     },
     "metadata": {
      "needs_background": "light"
     },
     "output_type": "display_data"
    }
   ],
   "source": [
    "paris_group['paris']=paris_group['name'].apply(lambda x: round(x/paris_venues.shape[0]*100,2))\n",
    "london_group['london']=london_group['name'].apply(lambda x: round(x/london_venues.shape[0]*100,2))\n",
    "town_activities = pd.merge(paris_group, london_group, left_on='categories_group',right_on='categories_group')[['paris','london']]\n",
    "ax = town_activities.plot.bar(title='Venues Categories')\n",
    "ax.set_xlabel(\"\")\n",
    "ax.set_ylabel(\"PCt %\")"
   ]
  },
  {
   "cell_type": "markdown",
   "metadata": {},
   "source": [
    "In term of frequence.It seem In Paris, we have more shops and everything else whereas in London, the most common category is building.\n",
    "Food area seems to be more frequent in Paris than in London."
   ]
  },
  {
   "cell_type": "code",
   "execution_count": 32,
   "metadata": {},
   "outputs": [
    {
     "data": {
      "text/plain": [
       "1                                        Office\n",
       "3                           Monument / Landmark\n",
       "34                               Police Station\n",
       "38                           Advertising Agency\n",
       "46                             Business Service\n",
       "53                              Coworking Space\n",
       "55                          Government Building\n",
       "76                                  Event Space\n",
       "81                                     Building\n",
       "100                 Professional & Other Places\n",
       "114                                  Non-Profit\n",
       "117                             Conference Room\n",
       "127    Residential Building (Apartment / Condo)\n",
       "128                                         Gym\n",
       "132                             Campaign Office\n",
       "133                                Meeting Room\n",
       "136                                  Club House\n",
       "138                                     Parking\n",
       "146                             Business Center\n",
       "Name: categories, dtype: object"
      ]
     },
     "execution_count": 32,
     "metadata": {},
     "output_type": "execute_result"
    }
   ],
   "source": [
    "london_venues[london_venues['categories_group']=='building'].categories.drop_duplicates()"
   ]
  },
  {
   "cell_type": "code",
   "execution_count": 33,
   "metadata": {},
   "outputs": [
    {
     "data": {
      "text/plain": [
       "2           City Hall\n",
       "7              Church\n",
       "8              Office\n",
       "9         Post Office\n",
       "10     Police Station\n",
       "38     Medical Center\n",
       "39    Doctor's Office\n",
       "41    Campaign Office\n",
       "Name: categories, dtype: object"
      ]
     },
     "execution_count": 33,
     "metadata": {},
     "output_type": "execute_result"
    }
   ],
   "source": [
    "paris_venues[paris_venues['categories_group']=='building'].categories.drop_duplicates()"
   ]
  },
  {
   "cell_type": "code",
   "execution_count": 34,
   "metadata": {},
   "outputs": [
    {
     "data": {
      "text/plain": [
       "0      Plaza\n",
       "1     Bridge\n",
       "3      River\n",
       "28    Garden\n",
       "42      Park\n",
       "Name: categories, dtype: object"
      ]
     },
     "execution_count": 34,
     "metadata": {},
     "output_type": "execute_result"
    }
   ],
   "source": [
    "paris_venues[paris_venues['categories_group']=='parks_outdoors'].categories.drop_duplicates()"
   ]
  },
  {
   "cell_type": "code",
   "execution_count": 35,
   "metadata": {},
   "outputs": [
    {
     "data": {
      "text/plain": [
       "0                 Plaza\n",
       "7     Outdoor Sculpture\n",
       "9              Fountain\n",
       "19           Campground\n",
       "21     Botanical Garden\n",
       "56       Scenic Lookout\n",
       "Name: categories, dtype: object"
      ]
     },
     "execution_count": 35,
     "metadata": {},
     "output_type": "execute_result"
    }
   ],
   "source": [
    "london_venues[london_venues['categories_group']=='parks_outdoors'].categories.drop_duplicates()"
   ]
  },
  {
   "cell_type": "markdown",
   "metadata": {},
   "source": [
    "### Let examine the type of shops for each town"
   ]
  },
  {
   "cell_type": "markdown",
   "metadata": {},
   "source": [
    "<a id='item5'></a>"
   ]
  },
  {
   "cell_type": "code",
   "execution_count": 37,
   "metadata": {},
   "outputs": [
    {
     "data": {
      "text/plain": [
       "4                   Grocery Store\n",
       "5                       Gift Shop\n",
       "6                            Bank\n",
       "12                      Bookstore\n",
       "20                    Supermarket\n",
       "26       Bike Rental / Bike Share\n",
       "29             Salon / Barbershop\n",
       "31     Financial or Legal Service\n",
       "32             Miscellaneous Shop\n",
       "36                       Car Wash\n",
       "41                   Tech Startup\n",
       "48        Health & Beauty Service\n",
       "75                  Jewelry Store\n",
       "77                 Massage Studio\n",
       "91                  Women's Store\n",
       "99                 Cosmetics Shop\n",
       "103             Electronics Store\n",
       "118                Shopping Plaza\n",
       "124                Clothing Store\n",
       "140               Automotive Shop\n",
       "142                   Gaming Cafe\n",
       "Name: categories, dtype: object"
      ]
     },
     "execution_count": 37,
     "metadata": {},
     "output_type": "execute_result"
    }
   ],
   "source": [
    "london_venues[london_venues['categories_group']=='shops'].categories.drop_duplicates()"
   ]
  },
  {
   "cell_type": "code",
   "execution_count": 36,
   "metadata": {},
   "outputs": [
    {
     "data": {
      "text/plain": [
       "5               Cosmetics Shop\n",
       "11                   Gift Shop\n",
       "12                Perfume Shop\n",
       "14    Bike Rental / Bike Share\n",
       "15               Souvenir Shop\n",
       "20                 Supermarket\n",
       "26                  Shoe Store\n",
       "27               Jewelry Store\n",
       "29      Furniture / Home Store\n",
       "32               Women's Store\n",
       "Name: categories, dtype: object"
      ]
     },
     "execution_count": 36,
     "metadata": {},
     "output_type": "execute_result"
    }
   ],
   "source": [
    "paris_venues[paris_venues['categories_group']=='shops'].categories.drop_duplicates()"
   ]
  },
  {
   "cell_type": "markdown",
   "metadata": {},
   "source": [
    "# Th weather"
   ]
  },
  {
   "cell_type": "code",
   "execution_count": 50,
   "metadata": {},
   "outputs": [],
   "source": [
    "#credentials for https://www.worldweatheronline.com/\n",
    "    \n",
    "apiKey =\"-\"#hidden\n",
    "freeHttpsUrl = 'https://api.worldweatheronline.com/free/v2/weather.ashx'\n",
    "premiumHttpsUrl = 'https://api.worldweatheronline.com/premium/v1/past-weather.ashx'"
   ]
  },
  {
   "cell_type": "code",
   "execution_count": 43,
   "metadata": {
    "jupyter": {
     "source_hidden": true
    }
   },
   "outputs": [],
   "source": [
    "url = premiumHttpsUrl+'?q={}&date={}&enddate={}&key={}&tp=24&format=json'.format('London','2018-01-01','2018-12-31',apiKey)"
   ]
  },
  {
   "cell_type": "code",
   "execution_count": 40,
   "metadata": {
    "jupyter": {
     "source_hidden": true
    }
   },
   "outputs": [],
   "source": [
    "ret =requests.get(url).json()"
   ]
  },
  {
   "cell_type": "code",
   "execution_count": 48,
   "metadata": {},
   "outputs": [],
   "source": [
    "raw_data={'London':[],'Paris':[]}\n",
    "#for some reasons i cant directly get data from january to december. So im going to get it by month\n",
    "for dates in [('2018-01-01','2018-01-31'),('2018-02-01','2018-02-28'),\n",
    "             ('2018-03-01','2018-03-31'),('2018-04-01','2018-04-30'),\n",
    "              ('2018-05-01','2018-05-31'),('2018-06-01','2018-06-30'),\n",
    "             ('2018-07-01','2018-07-31'),('2018-08-01','2018-08-31'),\n",
    "             ('2018-09-01','2018-09-30'),('2018-10-01','2018-10-31'),\n",
    "             ('2018-11-01','2018-11-30'),('2018-12-01','2018-12-31')]:\n",
    "    for key in raw_data:\n",
    "        url = premiumHttpsUrl+'?q={}&date={}&enddate={}&key={}&tp=24&format=json'.format(key,dates[0],dates[1],apiKey)\n",
    "        ret =requests.get(url).json()\n",
    "        raw_data[key].extend(ret['data']['weather'])\n",
    "    "
   ]
  },
  {
   "cell_type": "markdown",
   "metadata": {},
   "source": [
    "Let's make sure we have 365 days data"
   ]
  },
  {
   "cell_type": "code",
   "execution_count": 51,
   "metadata": {},
   "outputs": [
    {
     "data": {
      "text/plain": [
       "365"
      ]
     },
     "execution_count": 51,
     "metadata": {},
     "output_type": "execute_result"
    }
   ],
   "source": [
    "len([x['date'] for x in raw_data['London']])"
   ]
  },
  {
   "cell_type": "code",
   "execution_count": 52,
   "metadata": {},
   "outputs": [
    {
     "data": {
      "text/plain": [
       "365"
      ]
     },
     "execution_count": 52,
     "metadata": {},
     "output_type": "execute_result"
    }
   ],
   "source": [
    "len([x['date'] for x in raw_data['Paris']])"
   ]
  },
  {
   "cell_type": "markdown",
   "metadata": {},
   "source": [
    "Let's get a sample data for a day "
   ]
  },
  {
   "cell_type": "code",
   "execution_count": 53,
   "metadata": {},
   "outputs": [
    {
     "data": {
      "text/plain": [
       "{'date': '2018-01-01',\n",
       " 'astronomy': [{'sunrise': '08:06 AM',\n",
       "   'sunset': '04:02 PM',\n",
       "   'moonrise': '03:48 PM',\n",
       "   'moonset': '07:00 AM',\n",
       "   'moon_phase': 'Waxing Gibbous',\n",
       "   'moon_illumination': '97'}],\n",
       " 'maxtempC': '8',\n",
       " 'maxtempF': '46',\n",
       " 'mintempC': '6',\n",
       " 'mintempF': '43',\n",
       " 'avgtempC': '7',\n",
       " 'avgtempF': '44',\n",
       " 'totalSnow_cm': '0.0',\n",
       " 'sunHour': '6.8',\n",
       " 'uvIndex': '3',\n",
       " 'hourly': [{'time': '24',\n",
       "   'tempC': '8',\n",
       "   'tempF': '46',\n",
       "   'windspeedMiles': '12',\n",
       "   'windspeedKmph': '19',\n",
       "   'winddirDegree': '250',\n",
       "   'winddir16Point': 'WSW',\n",
       "   'weatherCode': '113',\n",
       "   'weatherIconUrl': [{'value': 'http://cdn.worldweatheronline.net/images/wsymbols01_png_64/wsymbol_0001_sunny.png'}],\n",
       "   'weatherDesc': [{'value': 'Sunny'}],\n",
       "   'precipMM': '0.4',\n",
       "   'precipInches': '0.0',\n",
       "   'humidity': '71',\n",
       "   'visibility': '10',\n",
       "   'visibilityMiles': '6',\n",
       "   'pressure': '998',\n",
       "   'pressureInches': '30',\n",
       "   'cloudcover': '32',\n",
       "   'HeatIndexC': '7',\n",
       "   'HeatIndexF': '45',\n",
       "   'DewPointC': '2',\n",
       "   'DewPointF': '36',\n",
       "   'WindChillC': '4',\n",
       "   'WindChillF': '39',\n",
       "   'WindGustMiles': '18',\n",
       "   'WindGustKmph': '29',\n",
       "   'FeelsLikeC': '4',\n",
       "   'FeelsLikeF': '39',\n",
       "   'uvIndex': '3'}]}"
      ]
     },
     "execution_count": 53,
     "metadata": {},
     "output_type": "execute_result"
    }
   ],
   "source": [
    "raw_data['London'][0]"
   ]
  },
  {
   "cell_type": "code",
   "execution_count": 54,
   "metadata": {},
   "outputs": [],
   "source": [
    "data_required = [{'town':'Paris','date':x['date'],'avgtempC':x['avgtempC'],'mintempC':x['mintempC'],'maxtempC':x['maxtempC'],\n",
    "                  'precipMM':x['hourly'][0]['precipMM'],'weatherCode':x['hourly'][0]['weatherCode'],'cloudcover':x['hourly'][0]['cloudcover'],\n",
    "                  'sunHour':x['sunHour']} for x in raw_data['Paris']]\n",
    "data_required.extend( [{'town':'London','date':x['date'],'avgtempC':x['avgtempC'],'mintempC':x['mintempC'],'maxtempC':x['maxtempC'],\n",
    "                  'precipMM':x['hourly'][0]['precipMM'],'weatherCode':x['hourly'][0]['weatherCode'],'cloudcover':x['hourly'][0]['cloudcover'],'sunHour':x['sunHour']} for x in raw_data['London']])"
   ]
  },
  {
   "cell_type": "code",
   "execution_count": 55,
   "metadata": {},
   "outputs": [
    {
     "data": {
      "text/html": [
       "<div>\n",
       "<style scoped>\n",
       "    .dataframe tbody tr th:only-of-type {\n",
       "        vertical-align: middle;\n",
       "    }\n",
       "\n",
       "    .dataframe tbody tr th {\n",
       "        vertical-align: top;\n",
       "    }\n",
       "\n",
       "    .dataframe thead th {\n",
       "        text-align: right;\n",
       "    }\n",
       "</style>\n",
       "<table border=\"1\" class=\"dataframe\">\n",
       "  <thead>\n",
       "    <tr style=\"text-align: right;\">\n",
       "      <th></th>\n",
       "      <th>town</th>\n",
       "      <th>date</th>\n",
       "      <th>avgtempC</th>\n",
       "      <th>mintempC</th>\n",
       "      <th>maxtempC</th>\n",
       "      <th>precipMM</th>\n",
       "      <th>weatherCode</th>\n",
       "      <th>cloudcover</th>\n",
       "      <th>sunHour</th>\n",
       "    </tr>\n",
       "  </thead>\n",
       "  <tbody>\n",
       "    <tr>\n",
       "      <th>0</th>\n",
       "      <td>Paris</td>\n",
       "      <td>2018-01-01</td>\n",
       "      <td>8</td>\n",
       "      <td>7</td>\n",
       "      <td>9</td>\n",
       "      <td>0.1</td>\n",
       "      <td>116</td>\n",
       "      <td>56</td>\n",
       "      <td>3.2</td>\n",
       "    </tr>\n",
       "    <tr>\n",
       "      <th>1</th>\n",
       "      <td>Paris</td>\n",
       "      <td>2018-01-02</td>\n",
       "      <td>7</td>\n",
       "      <td>5</td>\n",
       "      <td>11</td>\n",
       "      <td>1.0</td>\n",
       "      <td>122</td>\n",
       "      <td>71</td>\n",
       "      <td>3.2</td>\n",
       "    </tr>\n",
       "    <tr>\n",
       "      <th>2</th>\n",
       "      <td>Paris</td>\n",
       "      <td>2018-01-03</td>\n",
       "      <td>11</td>\n",
       "      <td>9</td>\n",
       "      <td>15</td>\n",
       "      <td>1.6</td>\n",
       "      <td>122</td>\n",
       "      <td>89</td>\n",
       "      <td>5.1</td>\n",
       "    </tr>\n",
       "    <tr>\n",
       "      <th>3</th>\n",
       "      <td>Paris</td>\n",
       "      <td>2018-01-04</td>\n",
       "      <td>11</td>\n",
       "      <td>9</td>\n",
       "      <td>14</td>\n",
       "      <td>9.2</td>\n",
       "      <td>143</td>\n",
       "      <td>78</td>\n",
       "      <td>3.2</td>\n",
       "    </tr>\n",
       "    <tr>\n",
       "      <th>4</th>\n",
       "      <td>Paris</td>\n",
       "      <td>2018-01-05</td>\n",
       "      <td>9</td>\n",
       "      <td>7</td>\n",
       "      <td>11</td>\n",
       "      <td>0.6</td>\n",
       "      <td>122</td>\n",
       "      <td>67</td>\n",
       "      <td>5.1</td>\n",
       "    </tr>\n",
       "  </tbody>\n",
       "</table>\n",
       "</div>"
      ],
      "text/plain": [
       "    town        date avgtempC mintempC maxtempC precipMM weatherCode  \\\n",
       "0  Paris  2018-01-01        8        7        9      0.1         116   \n",
       "1  Paris  2018-01-02        7        5       11      1.0         122   \n",
       "2  Paris  2018-01-03       11        9       15      1.6         122   \n",
       "3  Paris  2018-01-04       11        9       14      9.2         143   \n",
       "4  Paris  2018-01-05        9        7       11      0.6         122   \n",
       "\n",
       "  cloudcover sunHour  \n",
       "0         56     3.2  \n",
       "1         71     3.2  \n",
       "2         89     5.1  \n",
       "3         78     3.2  \n",
       "4         67     5.1  "
      ]
     },
     "execution_count": 55,
     "metadata": {},
     "output_type": "execute_result"
    }
   ],
   "source": [
    "weather_data = pd.DataFrame(data_required)\n",
    "weather_data.head()\n"
   ]
  },
  {
   "cell_type": "code",
   "execution_count": 91,
   "metadata": {},
   "outputs": [
    {
     "data": {
      "text/html": [
       "<div>\n",
       "<style scoped>\n",
       "    .dataframe tbody tr th:only-of-type {\n",
       "        vertical-align: middle;\n",
       "    }\n",
       "\n",
       "    .dataframe tbody tr th {\n",
       "        vertical-align: top;\n",
       "    }\n",
       "\n",
       "    .dataframe thead th {\n",
       "        text-align: right;\n",
       "    }\n",
       "</style>\n",
       "<table border=\"1\" class=\"dataframe\">\n",
       "  <thead>\n",
       "    <tr style=\"text-align: right;\">\n",
       "      <th></th>\n",
       "      <th>town</th>\n",
       "      <th>date</th>\n",
       "      <th>avgtempC</th>\n",
       "      <th>mintempC</th>\n",
       "      <th>maxtempC</th>\n",
       "      <th>precipMM</th>\n",
       "      <th>weatherCode</th>\n",
       "      <th>cloudcover</th>\n",
       "      <th>sunHour</th>\n",
       "    </tr>\n",
       "  </thead>\n",
       "  <tbody>\n",
       "    <tr>\n",
       "      <th>725</th>\n",
       "      <td>London</td>\n",
       "      <td>2018-12-27</td>\n",
       "      <td>6</td>\n",
       "      <td>5</td>\n",
       "      <td>7</td>\n",
       "      <td>0.0</td>\n",
       "      <td>116</td>\n",
       "      <td>68</td>\n",
       "      <td>6.7</td>\n",
       "    </tr>\n",
       "    <tr>\n",
       "      <th>726</th>\n",
       "      <td>London</td>\n",
       "      <td>2018-12-28</td>\n",
       "      <td>6</td>\n",
       "      <td>5</td>\n",
       "      <td>8</td>\n",
       "      <td>0.0</td>\n",
       "      <td>122</td>\n",
       "      <td>65</td>\n",
       "      <td>4.8</td>\n",
       "    </tr>\n",
       "    <tr>\n",
       "      <th>727</th>\n",
       "      <td>London</td>\n",
       "      <td>2018-12-29</td>\n",
       "      <td>8</td>\n",
       "      <td>6</td>\n",
       "      <td>11</td>\n",
       "      <td>0.0</td>\n",
       "      <td>116</td>\n",
       "      <td>68</td>\n",
       "      <td>4.8</td>\n",
       "    </tr>\n",
       "    <tr>\n",
       "      <th>728</th>\n",
       "      <td>London</td>\n",
       "      <td>2018-12-30</td>\n",
       "      <td>8</td>\n",
       "      <td>7</td>\n",
       "      <td>10</td>\n",
       "      <td>0.0</td>\n",
       "      <td>116</td>\n",
       "      <td>84</td>\n",
       "      <td>6.8</td>\n",
       "    </tr>\n",
       "    <tr>\n",
       "      <th>729</th>\n",
       "      <td>London</td>\n",
       "      <td>2018-12-31</td>\n",
       "      <td>8</td>\n",
       "      <td>6</td>\n",
       "      <td>9</td>\n",
       "      <td>0.0</td>\n",
       "      <td>116</td>\n",
       "      <td>62</td>\n",
       "      <td>4.9</td>\n",
       "    </tr>\n",
       "  </tbody>\n",
       "</table>\n",
       "</div>"
      ],
      "text/plain": [
       "       town        date avgtempC mintempC maxtempC precipMM weatherCode  \\\n",
       "725  London  2018-12-27        6        5        7      0.0         116   \n",
       "726  London  2018-12-28        6        5        8      0.0         122   \n",
       "727  London  2018-12-29        8        6       11      0.0         116   \n",
       "728  London  2018-12-30        8        7       10      0.0         116   \n",
       "729  London  2018-12-31        8        6        9      0.0         116   \n",
       "\n",
       "    cloudcover sunHour  \n",
       "725         68     6.7  \n",
       "726         65     4.8  \n",
       "727         68     4.8  \n",
       "728         84     6.8  \n",
       "729         62     4.9  "
      ]
     },
     "execution_count": 91,
     "metadata": {},
     "output_type": "execute_result"
    }
   ],
   "source": [
    "weather_data.tail()"
   ]
  },
  {
   "cell_type": "code",
   "execution_count": 56,
   "metadata": {},
   "outputs": [],
   "source": [
    "#saving the data just in case\n",
    "\n",
    "weather_data.to_csv(\"weather_data.csv\")"
   ]
  },
  {
   "cell_type": "markdown",
   "metadata": {},
   "source": [
    "Defining date_index in date type"
   ]
  },
  {
   "cell_type": "code",
   "execution_count": 58,
   "metadata": {},
   "outputs": [],
   "source": [
    "dates = pd.date_range(\"1 1 2018\", periods=365, freq=\"D\")\n",
    "weather_data['date_index'] = dates.append(dates)"
   ]
  },
  {
   "cell_type": "markdown",
   "metadata": {},
   "source": [
    "converting the colums to float"
   ]
  },
  {
   "cell_type": "code",
   "execution_count": 59,
   "metadata": {},
   "outputs": [],
   "source": [
    "for column in ['avgtempC','mintempC','maxtempC','precipMM','weatherCode','cloudcover','sunHour',]:\n",
    "    weather_data[column] = pd.to_numeric(weather_data[column], downcast='float')"
   ]
  },
  {
   "cell_type": "code",
   "execution_count": 60,
   "metadata": {},
   "outputs": [],
   "source": [
    "weather_data['month'] = weather_data['date'].apply(lambda x: x.split('-')[1])"
   ]
  },
  {
   "cell_type": "code",
   "execution_count": 61,
   "metadata": {},
   "outputs": [
    {
     "data": {
      "text/plain": [
       "town                   object\n",
       "date                   object\n",
       "avgtempC              float32\n",
       "mintempC              float32\n",
       "maxtempC              float32\n",
       "precipMM              float32\n",
       "weatherCode           float32\n",
       "cloudcover            float32\n",
       "sunHour               float32\n",
       "date_index     datetime64[ns]\n",
       "month                  object\n",
       "dtype: object"
      ]
     },
     "execution_count": 61,
     "metadata": {},
     "output_type": "execute_result"
    }
   ],
   "source": [
    "weather_data.loc[weather_data['town']=='London'].dtypes"
   ]
  },
  {
   "cell_type": "code",
   "execution_count": 79,
   "metadata": {},
   "outputs": [],
   "source": [
    "import seaborn as sns\n",
    "import matplotlib.pyplot as plt\n",
    "import calendar\n",
    "\n"
   ]
  },
  {
   "cell_type": "markdown",
   "metadata": {},
   "source": [
    "# temperature"
   ]
  },
  {
   "cell_type": "code",
   "execution_count": 155,
   "metadata": {},
   "outputs": [
    {
     "data": {
      "image/png": "[encoded data removed]",
      "text/plain": [
       "<Figure size 1080x576 with 1 Axes>"
      ]
     },
     "metadata": {
      "needs_background": "light"
     },
     "output_type": "display_data"
    }
   ],
   "source": [
    "fig = plt.figure(figsize=(15,8))\n",
    "ax = sns.lineplot(x=\"month\", y=\"avgtempC\", data=weather_data, hue='town',linewidth=2.5,palette=[\"C0\", \"C1\"])\n",
    "ax.set_xticks(np.arange(12))\n",
    "ax.set_xticklabels(calendar.month_name[1:13])\n",
    "ax.set_yticks(np.linspace(0, 25, num=26))\n",
    "ax.set_xlabel(\"Month in 2018\")\n",
    "ax.set_ylabel(\"T °C\")\n",
    "ax.set_title(\"Average temperature | PARIS vs LONDON\")\n",
    "ax.grid(b=True,axis ='y')\n",
    "fig.savefig('avgtempC.png', dpi = 300)"
   ]
  },
  {
   "cell_type": "code",
   "execution_count": 152,
   "metadata": {},
   "outputs": [
    {
     "data": {
      "image/png": "[encoded data removed]",
      "text/plain": [
       "<Figure size 1080x576 with 1 Axes>"
      ]
     },
     "metadata": {
      "needs_background": "light"
     },
     "output_type": "display_data"
    }
   ],
   "source": [
    "\n",
    "fig = plt.figure(figsize=(15,8))\n",
    "ax = sns.lineplot(x=\"month\", y=\"mintempC\", data=weather_data, hue='town',linewidth=2.5)\n",
    "ax.set_xticks(np.arange(12))\n",
    "ax.set_xticklabels(calendar.month_name[1:13])\n",
    "ax.set_yticks(np.linspace(0, 20, num=21))\n",
    "\n",
    "ax.set_xlabel(\"Month in 2018\")\n",
    "ax.set_ylabel(\"T °C\")\n",
    "ax.grid(b=True,axis ='y')\n",
    "ax.set_title(\"Minimum temperature | PARIS vs LONDON\")\n",
    "fig.savefig('mintempC.png', dpi = 300)"
   ]
  },
  {
   "cell_type": "code",
   "execution_count": 147,
   "metadata": {},
   "outputs": [
    {
     "data": {
      "image/png": "[encoded data removed]",
      "text/plain": [
       "<Figure size 1080x576 with 1 Axes>"
      ]
     },
     "metadata": {
      "needs_background": "light"
     },
     "output_type": "display_data"
    }
   ],
   "source": [
    "fig = plt.figure(figsize=(15,8))\n",
    "ax = sns.lineplot(x=\"month\", y=\"maxtempC\", data=weather_data, hue='town',linewidth=2.5)\n",
    "ax.set_xticks(np.arange(12))\n",
    "ax.set_yticks(np.linspace(0, 29, num=30))\n",
    "#ax.set_yticks([int(x) for x in np.linspace(0, 30, num=30)])\n",
    "ax.set_xticklabels(calendar.month_name[1:13])\n",
    "ax.set_xlabel(\"Month in 2018\")\n",
    "ax.set_ylabel(\"T °C\")\n",
    "ax.grid(b=True,axis ='y')\n",
    "\n",
    "ax.set_title(\"Maximum temperature | PARIS vs LONDON\")\n",
    "fig.savefig('maxtempC.png', dpi = 300)"
   ]
  },
  {
   "cell_type": "markdown",
   "metadata": {},
   "source": [
    "# RAIN FALL"
   ]
  },
  {
   "cell_type": "markdown",
   "metadata": {},
   "source": [
    "### average by day"
   ]
  },
  {
   "cell_type": "code",
   "execution_count": 88,
   "metadata": {},
   "outputs": [
    {
     "data": {
      "image/png": "[encoded data removed]",
      "text/plain": [
       "<Figure size 1080x576 with 1 Axes>"
      ]
     },
     "metadata": {
      "needs_background": "light"
     },
     "output_type": "display_data"
    }
   ],
   "source": [
    "fig = plt.figure(figsize=(15,8))\n",
    "ax = sns.barplot(x=\"month\", y=\"precipMM\", data=weather_data, hue='town',linewidth=2.5)\n",
    "ax.set_xticks(np.arange(12))\n",
    "ax.set_xticklabels(calendar.month_name[1:13])\n",
    "ax.set_xlabel(\"Month in 2018\")\n",
    "ax.set_ylabel(\"mm\")\n",
    "ax.set_title(\"Precipitation | PARIS vs LONDON\")\n",
    "fig.savefig('precipMM.png', dpi = 300)"
   ]
  },
  {
   "cell_type": "markdown",
   "metadata": {},
   "source": [
    "### sum of precipitation in the month"
   ]
  },
  {
   "cell_type": "code",
   "execution_count": 140,
   "metadata": {},
   "outputs": [
    {
     "data": {
      "image/png": "[encoded data removed]",
      "text/plain": [
       "<Figure size 1080x576 with 1 Axes>"
      ]
     },
     "metadata": {
      "needs_background": "light"
     },
     "output_type": "display_data"
    }
   ],
   "source": [
    "fig = plt.figure(figsize=(15,8))\n",
    "ax = sns.barplot(x=\"month\", y=\"precipMM\", data=weather_data.groupby(['month','town']).sum().reset_index(), hue='town',linewidth=2.5)\n",
    "ax.set_xticks(np.arange(12))\n",
    "ax.set_xticklabels(calendar.month_name[1:13])\n",
    "ax.set_xlabel(\"Month in 2018\")\n",
    "ax.set_ylabel(\"mm\")\n",
    "ax.set_title(\"Precipitation | PARIS vs LONDON\")\n",
    "fig.savefig('precipMM_sum.png', dpi = 300)"
   ]
  },
  {
   "cell_type": "code",
   "execution_count": 91,
   "metadata": {},
   "outputs": [
    {
     "data": {
      "text/html": [
       "<div>\n",
       "<style scoped>\n",
       "    .dataframe tbody tr th:only-of-type {\n",
       "        vertical-align: middle;\n",
       "    }\n",
       "\n",
       "    .dataframe tbody tr th {\n",
       "        vertical-align: top;\n",
       "    }\n",
       "\n",
       "    .dataframe thead th {\n",
       "        text-align: right;\n",
       "    }\n",
       "</style>\n",
       "<table border=\"1\" class=\"dataframe\">\n",
       "  <thead>\n",
       "    <tr style=\"text-align: right;\">\n",
       "      <th></th>\n",
       "      <th>month</th>\n",
       "      <th>avgtempC</th>\n",
       "      <th>mintempC</th>\n",
       "      <th>maxtempC</th>\n",
       "      <th>precipMM</th>\n",
       "      <th>weatherCode</th>\n",
       "      <th>cloudcover</th>\n",
       "      <th>sunHour</th>\n",
       "    </tr>\n",
       "  </thead>\n",
       "  <tbody>\n",
       "    <tr>\n",
       "      <th>0</th>\n",
       "      <td>01</td>\n",
       "      <td>433.0</td>\n",
       "      <td>323.0</td>\n",
       "      <td>557.0</td>\n",
       "      <td>81.800003</td>\n",
       "      <td>7411.0</td>\n",
       "      <td>4163.0</td>\n",
       "      <td>325.299988</td>\n",
       "    </tr>\n",
       "    <tr>\n",
       "      <th>1</th>\n",
       "      <td>02</td>\n",
       "      <td>144.0</td>\n",
       "      <td>34.0</td>\n",
       "      <td>281.0</td>\n",
       "      <td>38.500000</td>\n",
       "      <td>6721.0</td>\n",
       "      <td>2817.0</td>\n",
       "      <td>389.100006</td>\n",
       "    </tr>\n",
       "    <tr>\n",
       "      <th>2</th>\n",
       "      <td>03</td>\n",
       "      <td>394.0</td>\n",
       "      <td>229.0</td>\n",
       "      <td>587.0</td>\n",
       "      <td>88.000000</td>\n",
       "      <td>7804.0</td>\n",
       "      <td>4329.0</td>\n",
       "      <td>491.399994</td>\n",
       "    </tr>\n",
       "    <tr>\n",
       "      <th>3</th>\n",
       "      <td>04</td>\n",
       "      <td>754.0</td>\n",
       "      <td>560.0</td>\n",
       "      <td>974.0</td>\n",
       "      <td>57.000000</td>\n",
       "      <td>7041.0</td>\n",
       "      <td>3190.0</td>\n",
       "      <td>666.200012</td>\n",
       "    </tr>\n",
       "    <tr>\n",
       "      <th>4</th>\n",
       "      <td>05</td>\n",
       "      <td>989.0</td>\n",
       "      <td>719.0</td>\n",
       "      <td>1292.0</td>\n",
       "      <td>40.400002</td>\n",
       "      <td>7126.0</td>\n",
       "      <td>2030.0</td>\n",
       "      <td>834.400024</td>\n",
       "    </tr>\n",
       "    <tr>\n",
       "      <th>5</th>\n",
       "      <td>06</td>\n",
       "      <td>1119.0</td>\n",
       "      <td>871.0</td>\n",
       "      <td>1380.0</td>\n",
       "      <td>22.299999</td>\n",
       "      <td>6999.0</td>\n",
       "      <td>2176.0</td>\n",
       "      <td>793.599976</td>\n",
       "    </tr>\n",
       "    <tr>\n",
       "      <th>6</th>\n",
       "      <td>07</td>\n",
       "      <td>1392.0</td>\n",
       "      <td>1137.0</td>\n",
       "      <td>1684.0</td>\n",
       "      <td>61.599998</td>\n",
       "      <td>7237.0</td>\n",
       "      <td>2121.0</td>\n",
       "      <td>833.900024</td>\n",
       "    </tr>\n",
       "    <tr>\n",
       "      <th>7</th>\n",
       "      <td>08</td>\n",
       "      <td>1260.0</td>\n",
       "      <td>1022.0</td>\n",
       "      <td>1519.0</td>\n",
       "      <td>47.299999</td>\n",
       "      <td>7153.0</td>\n",
       "      <td>2224.0</td>\n",
       "      <td>777.900024</td>\n",
       "    </tr>\n",
       "    <tr>\n",
       "      <th>8</th>\n",
       "      <td>09</td>\n",
       "      <td>1010.0</td>\n",
       "      <td>792.0</td>\n",
       "      <td>1269.0</td>\n",
       "      <td>25.000000</td>\n",
       "      <td>6888.0</td>\n",
       "      <td>1904.0</td>\n",
       "      <td>661.000000</td>\n",
       "    </tr>\n",
       "    <tr>\n",
       "      <th>9</th>\n",
       "      <td>10</td>\n",
       "      <td>826.0</td>\n",
       "      <td>639.0</td>\n",
       "      <td>1054.0</td>\n",
       "      <td>12.500000</td>\n",
       "      <td>7153.0</td>\n",
       "      <td>2219.0</td>\n",
       "      <td>487.299988</td>\n",
       "    </tr>\n",
       "    <tr>\n",
       "      <th>10</th>\n",
       "      <td>11</td>\n",
       "      <td>527.0</td>\n",
       "      <td>410.0</td>\n",
       "      <td>659.0</td>\n",
       "      <td>43.700001</td>\n",
       "      <td>7014.0</td>\n",
       "      <td>3068.0</td>\n",
       "      <td>382.600006</td>\n",
       "    </tr>\n",
       "    <tr>\n",
       "      <th>11</th>\n",
       "      <td>12</td>\n",
       "      <td>454.0</td>\n",
       "      <td>346.0</td>\n",
       "      <td>570.0</td>\n",
       "      <td>79.300003</td>\n",
       "      <td>7636.0</td>\n",
       "      <td>3812.0</td>\n",
       "      <td>341.500000</td>\n",
       "    </tr>\n",
       "  </tbody>\n",
       "</table>\n",
       "</div>"
      ],
      "text/plain": [
       "   month  avgtempC  mintempC  maxtempC   precipMM  weatherCode  cloudcover  \\\n",
       "0     01     433.0     323.0     557.0  81.800003       7411.0      4163.0   \n",
       "1     02     144.0      34.0     281.0  38.500000       6721.0      2817.0   \n",
       "2     03     394.0     229.0     587.0  88.000000       7804.0      4329.0   \n",
       "3     04     754.0     560.0     974.0  57.000000       7041.0      3190.0   \n",
       "4     05     989.0     719.0    1292.0  40.400002       7126.0      2030.0   \n",
       "5     06    1119.0     871.0    1380.0  22.299999       6999.0      2176.0   \n",
       "6     07    1392.0    1137.0    1684.0  61.599998       7237.0      2121.0   \n",
       "7     08    1260.0    1022.0    1519.0  47.299999       7153.0      2224.0   \n",
       "8     09    1010.0     792.0    1269.0  25.000000       6888.0      1904.0   \n",
       "9     10     826.0     639.0    1054.0  12.500000       7153.0      2219.0   \n",
       "10    11     527.0     410.0     659.0  43.700001       7014.0      3068.0   \n",
       "11    12     454.0     346.0     570.0  79.300003       7636.0      3812.0   \n",
       "\n",
       "       sunHour  \n",
       "0   325.299988  \n",
       "1   389.100006  \n",
       "2   491.399994  \n",
       "3   666.200012  \n",
       "4   834.400024  \n",
       "5   793.599976  \n",
       "6   833.900024  \n",
       "7   777.900024  \n",
       "8   661.000000  \n",
       "9   487.299988  \n",
       "10  382.600006  \n",
       "11  341.500000  "
      ]
     },
     "execution_count": 91,
     "metadata": {},
     "output_type": "execute_result"
    }
   ],
   "source": [
    "weather_data.groupby('month').sum().reset_index()"
   ]
  },
  {
   "cell_type": "markdown",
   "metadata": {},
   "source": [
    "Surprisingly more rain falls in Paris than London. April is the only month when more rain falls on London than Paris."
   ]
  },
  {
   "cell_type": "markdown",
   "metadata": {},
   "source": [
    "# sun"
   ]
  },
  {
   "cell_type": "code",
   "execution_count": 92,
   "metadata": {},
   "outputs": [],
   "source": [
    "weather_data['total_hour_in_a_day']=weather_data['date'].apply(lambda x: 24)"
   ]
  },
  {
   "cell_type": "code",
   "execution_count": 110,
   "metadata": {},
   "outputs": [
    {
     "data": {
      "image/png": "[encoded data removed]",
      "text/plain": [
       "<Figure size 1080x576 with 1 Axes>"
      ]
     },
     "metadata": {
      "needs_background": "light"
     },
     "output_type": "display_data"
    }
   ],
   "source": [
    "\n",
    "\n",
    "fig = plt.figure(figsize=(15,8))\n",
    "#ax2=sns.barplot(y=\"month\", x=\"total_hour_in_a_day\", data=weather_data, hue='town',linewidth=2.5,orient='h',color='grey')\n",
    "ax1=sns.barplot(y=\"month\", x=\"sunHour\", data=weather_data, hue='town',linewidth=2.5,orient='h')\n",
    "ax1.set_xticks(np.arange(25))\n",
    "ax1.set_xticklabels(np.arange(25))\n",
    "ax1.set_xlabel(\"Hours in the day\")\n",
    "ax1.set_ylabel(\"month\")\n",
    "ax1.set_yticks(np.arange(13))\n",
    "ax1.set_yticklabels(calendar.month_name[1:14])\n",
    "ax1.set_title(\"Sun hours | PARIS vs LONDON\")\n",
    "fig.savefig('sunhour.png', dpi = 300)"
   ]
  },
  {
   "cell_type": "markdown",
   "metadata": {},
   "source": [
    "# day condition"
   ]
  },
  {
   "cell_type": "code",
   "execution_count": 111,
   "metadata": {},
   "outputs": [],
   "source": [
    "weather_code = pd.read_csv('http://www.worldweatheronline.com/feed/Multilingual_Weather_Conditions.csv',usecols=[0,1])"
   ]
  },
  {
   "cell_type": "code",
   "execution_count": 112,
   "metadata": {},
   "outputs": [
    {
     "data": {
      "text/html": [
       "<div>\n",
       "<style scoped>\n",
       "    .dataframe tbody tr th:only-of-type {\n",
       "        vertical-align: middle;\n",
       "    }\n",
       "\n",
       "    .dataframe tbody tr th {\n",
       "        vertical-align: top;\n",
       "    }\n",
       "\n",
       "    .dataframe thead th {\n",
       "        text-align: right;\n",
       "    }\n",
       "</style>\n",
       "<table border=\"1\" class=\"dataframe\">\n",
       "  <thead>\n",
       "    <tr style=\"text-align: right;\">\n",
       "      <th></th>\n",
       "      <th>overhead_code</th>\n",
       "      <th>daycondition</th>\n",
       "    </tr>\n",
       "  </thead>\n",
       "  <tbody>\n",
       "    <tr>\n",
       "      <th>0</th>\n",
       "      <td>113</td>\n",
       "      <td>Sunny</td>\n",
       "    </tr>\n",
       "    <tr>\n",
       "      <th>40</th>\n",
       "      <td>116</td>\n",
       "      <td>Partly cloudy</td>\n",
       "    </tr>\n",
       "    <tr>\n",
       "      <th>80</th>\n",
       "      <td>119</td>\n",
       "      <td>Cloudy</td>\n",
       "    </tr>\n",
       "    <tr>\n",
       "      <th>120</th>\n",
       "      <td>122</td>\n",
       "      <td>Overcast</td>\n",
       "    </tr>\n",
       "    <tr>\n",
       "      <th>160</th>\n",
       "      <td>143</td>\n",
       "      <td>Mist</td>\n",
       "    </tr>\n",
       "    <tr>\n",
       "      <th>200</th>\n",
       "      <td>176</td>\n",
       "      <td>Patchy rain possible</td>\n",
       "    </tr>\n",
       "    <tr>\n",
       "      <th>240</th>\n",
       "      <td>179</td>\n",
       "      <td>Patchy snow possible</td>\n",
       "    </tr>\n",
       "    <tr>\n",
       "      <th>280</th>\n",
       "      <td>182</td>\n",
       "      <td>Patchy sleet possible</td>\n",
       "    </tr>\n",
       "    <tr>\n",
       "      <th>320</th>\n",
       "      <td>185</td>\n",
       "      <td>Patchy freezing drizzle possible</td>\n",
       "    </tr>\n",
       "    <tr>\n",
       "      <th>360</th>\n",
       "      <td>200</td>\n",
       "      <td>Thundery outbreaks possible</td>\n",
       "    </tr>\n",
       "    <tr>\n",
       "      <th>400</th>\n",
       "      <td>227</td>\n",
       "      <td>Blowing snow</td>\n",
       "    </tr>\n",
       "    <tr>\n",
       "      <th>440</th>\n",
       "      <td>230</td>\n",
       "      <td>Blizzard</td>\n",
       "    </tr>\n",
       "    <tr>\n",
       "      <th>480</th>\n",
       "      <td>248</td>\n",
       "      <td>Fog</td>\n",
       "    </tr>\n",
       "    <tr>\n",
       "      <th>520</th>\n",
       "      <td>260</td>\n",
       "      <td>Freezing fog</td>\n",
       "    </tr>\n",
       "    <tr>\n",
       "      <th>560</th>\n",
       "      <td>263</td>\n",
       "      <td>Patchy light drizzle</td>\n",
       "    </tr>\n",
       "    <tr>\n",
       "      <th>600</th>\n",
       "      <td>266</td>\n",
       "      <td>Light drizzle</td>\n",
       "    </tr>\n",
       "    <tr>\n",
       "      <th>640</th>\n",
       "      <td>281</td>\n",
       "      <td>Freezing drizzle</td>\n",
       "    </tr>\n",
       "    <tr>\n",
       "      <th>680</th>\n",
       "      <td>284</td>\n",
       "      <td>Heavy freezing drizzle</td>\n",
       "    </tr>\n",
       "    <tr>\n",
       "      <th>720</th>\n",
       "      <td>293</td>\n",
       "      <td>Patchy light rain</td>\n",
       "    </tr>\n",
       "    <tr>\n",
       "      <th>760</th>\n",
       "      <td>296</td>\n",
       "      <td>Light rain</td>\n",
       "    </tr>\n",
       "    <tr>\n",
       "      <th>800</th>\n",
       "      <td>299</td>\n",
       "      <td>Moderate rain at times</td>\n",
       "    </tr>\n",
       "    <tr>\n",
       "      <th>840</th>\n",
       "      <td>302</td>\n",
       "      <td>Moderate rain</td>\n",
       "    </tr>\n",
       "    <tr>\n",
       "      <th>880</th>\n",
       "      <td>305</td>\n",
       "      <td>Heavy rain at times</td>\n",
       "    </tr>\n",
       "    <tr>\n",
       "      <th>920</th>\n",
       "      <td>308</td>\n",
       "      <td>Heavy rain</td>\n",
       "    </tr>\n",
       "    <tr>\n",
       "      <th>960</th>\n",
       "      <td>311</td>\n",
       "      <td>Light freezing rain</td>\n",
       "    </tr>\n",
       "  </tbody>\n",
       "</table>\n",
       "</div>"
      ],
      "text/plain": [
       "     overhead_code                      daycondition\n",
       "0              113                             Sunny\n",
       "40             116                     Partly cloudy\n",
       "80             119                            Cloudy\n",
       "120            122                          Overcast\n",
       "160            143                              Mist\n",
       "200            176              Patchy rain possible\n",
       "240            179              Patchy snow possible\n",
       "280            182             Patchy sleet possible\n",
       "320            185  Patchy freezing drizzle possible\n",
       "360            200       Thundery outbreaks possible\n",
       "400            227                      Blowing snow\n",
       "440            230                          Blizzard\n",
       "480            248                               Fog\n",
       "520            260                      Freezing fog\n",
       "560            263              Patchy light drizzle\n",
       "600            266                     Light drizzle\n",
       "640            281                  Freezing drizzle\n",
       "680            284            Heavy freezing drizzle\n",
       "720            293                 Patchy light rain\n",
       "760            296                        Light rain\n",
       "800            299            Moderate rain at times\n",
       "840            302                     Moderate rain\n",
       "880            305               Heavy rain at times\n",
       "920            308                        Heavy rain\n",
       "960            311               Light freezing rain"
      ]
     },
     "execution_count": 112,
     "metadata": {},
     "output_type": "execute_result"
    }
   ],
   "source": [
    "weather_code.drop_duplicates('overhead_code',inplace= True)\n",
    "weather_code\n"
   ]
  },
  {
   "cell_type": "code",
   "execution_count": 113,
   "metadata": {},
   "outputs": [
    {
     "data": {
      "text/html": [
       "<div>\n",
       "<style scoped>\n",
       "    .dataframe tbody tr th:only-of-type {\n",
       "        vertical-align: middle;\n",
       "    }\n",
       "\n",
       "    .dataframe tbody tr th {\n",
       "        vertical-align: top;\n",
       "    }\n",
       "\n",
       "    .dataframe thead th {\n",
       "        text-align: right;\n",
       "    }\n",
       "</style>\n",
       "<table border=\"1\" class=\"dataframe\">\n",
       "  <thead>\n",
       "    <tr style=\"text-align: right;\">\n",
       "      <th></th>\n",
       "      <th>town</th>\n",
       "      <th>date</th>\n",
       "      <th>avgtempC</th>\n",
       "      <th>mintempC</th>\n",
       "      <th>maxtempC</th>\n",
       "      <th>precipMM</th>\n",
       "      <th>weatherCode</th>\n",
       "      <th>cloudcover</th>\n",
       "      <th>sunHour</th>\n",
       "      <th>date_index</th>\n",
       "      <th>month</th>\n",
       "      <th>total_hour_in_a_day</th>\n",
       "      <th>overhead_code</th>\n",
       "      <th>daycondition</th>\n",
       "    </tr>\n",
       "  </thead>\n",
       "  <tbody>\n",
       "    <tr>\n",
       "      <th>0</th>\n",
       "      <td>Paris</td>\n",
       "      <td>2018-01-01</td>\n",
       "      <td>8.0</td>\n",
       "      <td>7.0</td>\n",
       "      <td>9.0</td>\n",
       "      <td>0.1</td>\n",
       "      <td>116.0</td>\n",
       "      <td>56.0</td>\n",
       "      <td>3.2</td>\n",
       "      <td>2018-01-01</td>\n",
       "      <td>01</td>\n",
       "      <td>24</td>\n",
       "      <td>116</td>\n",
       "      <td>Partly cloudy</td>\n",
       "    </tr>\n",
       "    <tr>\n",
       "      <th>1</th>\n",
       "      <td>Paris</td>\n",
       "      <td>2018-01-08</td>\n",
       "      <td>5.0</td>\n",
       "      <td>4.0</td>\n",
       "      <td>8.0</td>\n",
       "      <td>0.0</td>\n",
       "      <td>116.0</td>\n",
       "      <td>65.0</td>\n",
       "      <td>8.7</td>\n",
       "      <td>2018-01-08</td>\n",
       "      <td>01</td>\n",
       "      <td>24</td>\n",
       "      <td>116</td>\n",
       "      <td>Partly cloudy</td>\n",
       "    </tr>\n",
       "    <tr>\n",
       "      <th>2</th>\n",
       "      <td>Paris</td>\n",
       "      <td>2018-01-13</td>\n",
       "      <td>4.0</td>\n",
       "      <td>2.0</td>\n",
       "      <td>6.0</td>\n",
       "      <td>0.0</td>\n",
       "      <td>116.0</td>\n",
       "      <td>47.0</td>\n",
       "      <td>8.7</td>\n",
       "      <td>2018-01-13</td>\n",
       "      <td>01</td>\n",
       "      <td>24</td>\n",
       "      <td>116</td>\n",
       "      <td>Partly cloudy</td>\n",
       "    </tr>\n",
       "    <tr>\n",
       "      <th>3</th>\n",
       "      <td>Paris</td>\n",
       "      <td>2018-01-16</td>\n",
       "      <td>8.0</td>\n",
       "      <td>7.0</td>\n",
       "      <td>10.0</td>\n",
       "      <td>3.1</td>\n",
       "      <td>116.0</td>\n",
       "      <td>71.0</td>\n",
       "      <td>3.3</td>\n",
       "      <td>2018-01-16</td>\n",
       "      <td>01</td>\n",
       "      <td>24</td>\n",
       "      <td>116</td>\n",
       "      <td>Partly cloudy</td>\n",
       "    </tr>\n",
       "    <tr>\n",
       "      <th>4</th>\n",
       "      <td>Paris</td>\n",
       "      <td>2018-01-17</td>\n",
       "      <td>6.0</td>\n",
       "      <td>4.0</td>\n",
       "      <td>7.0</td>\n",
       "      <td>0.7</td>\n",
       "      <td>116.0</td>\n",
       "      <td>61.0</td>\n",
       "      <td>8.7</td>\n",
       "      <td>2018-01-17</td>\n",
       "      <td>01</td>\n",
       "      <td>24</td>\n",
       "      <td>116</td>\n",
       "      <td>Partly cloudy</td>\n",
       "    </tr>\n",
       "  </tbody>\n",
       "</table>\n",
       "</div>"
      ],
      "text/plain": [
       "    town        date  avgtempC  mintempC  maxtempC  precipMM  weatherCode  \\\n",
       "0  Paris  2018-01-01       8.0       7.0       9.0       0.1        116.0   \n",
       "1  Paris  2018-01-08       5.0       4.0       8.0       0.0        116.0   \n",
       "2  Paris  2018-01-13       4.0       2.0       6.0       0.0        116.0   \n",
       "3  Paris  2018-01-16       8.0       7.0      10.0       3.1        116.0   \n",
       "4  Paris  2018-01-17       6.0       4.0       7.0       0.7        116.0   \n",
       "\n",
       "   cloudcover  sunHour date_index month  total_hour_in_a_day  overhead_code  \\\n",
       "0        56.0      3.2 2018-01-01    01                   24            116   \n",
       "1        65.0      8.7 2018-01-08    01                   24            116   \n",
       "2        47.0      8.7 2018-01-13    01                   24            116   \n",
       "3        71.0      3.3 2018-01-16    01                   24            116   \n",
       "4        61.0      8.7 2018-01-17    01                   24            116   \n",
       "\n",
       "    daycondition  \n",
       "0  Partly cloudy  \n",
       "1  Partly cloudy  \n",
       "2  Partly cloudy  \n",
       "3  Partly cloudy  \n",
       "4  Partly cloudy  "
      ]
     },
     "execution_count": 113,
     "metadata": {},
     "output_type": "execute_result"
    }
   ],
   "source": [
    "weather_data_merged =pd.merge(weather_data,weather_code,left_on='weatherCode', right_on='overhead_code')\n",
    "weather_data_merged.head()"
   ]
  },
  {
   "cell_type": "code",
   "execution_count": 114,
   "metadata": {},
   "outputs": [],
   "source": [
    "#There are too many daycondition. We are going to aggregate them in 6 categories\n",
    "def get_simple_day_condition(code):\n",
    "    if int(code) == 113:\n",
    "        return 'Sunny'\n",
    "    elif int(code) <176 :\n",
    "        return 'Cloudy'\n",
    "    elif int(code) ==176 :\n",
    "        return 'Rainy'\n",
    "    elif int(code) <231 :\n",
    "        return 'Snowy'\n",
    "    elif int(code) <293 :\n",
    "        return 'Foggy'\n",
    "    else :\n",
    "        return 'Rainy'"
   ]
  },
  {
   "cell_type": "code",
   "execution_count": 115,
   "metadata": {},
   "outputs": [
    {
     "data": {
      "text/plain": [
       "array(['Cloudy', 'Sunny', 'Rainy', 'Snowy'], dtype=object)"
      ]
     },
     "execution_count": 115,
     "metadata": {},
     "output_type": "execute_result"
    }
   ],
   "source": [
    "weather_data_merged['day_condition_simple']=weather_data_merged['weatherCode'].apply(get_simple_day_condition)\n",
    "weather_data_merged['day_condition_simple'].unique()"
   ]
  },
  {
   "cell_type": "code",
   "execution_count": 116,
   "metadata": {},
   "outputs": [
    {
     "data": {
      "text/html": [
       "<div>\n",
       "<style scoped>\n",
       "    .dataframe tbody tr th:only-of-type {\n",
       "        vertical-align: middle;\n",
       "    }\n",
       "\n",
       "    .dataframe tbody tr th {\n",
       "        vertical-align: top;\n",
       "    }\n",
       "\n",
       "    .dataframe thead th {\n",
       "        text-align: right;\n",
       "    }\n",
       "</style>\n",
       "<table border=\"1\" class=\"dataframe\">\n",
       "  <thead>\n",
       "    <tr style=\"text-align: right;\">\n",
       "      <th></th>\n",
       "      <th>day_condition_simple</th>\n",
       "      <th>town</th>\n",
       "      <th>date</th>\n",
       "      <th>avgtempC</th>\n",
       "      <th>mintempC</th>\n",
       "      <th>maxtempC</th>\n",
       "      <th>precipMM</th>\n",
       "      <th>weatherCode</th>\n",
       "      <th>cloudcover</th>\n",
       "      <th>sunHour</th>\n",
       "      <th>date_index</th>\n",
       "      <th>month</th>\n",
       "      <th>total_hour_in_a_day</th>\n",
       "      <th>overhead_code</th>\n",
       "      <th>daycondition</th>\n",
       "    </tr>\n",
       "  </thead>\n",
       "  <tbody>\n",
       "    <tr>\n",
       "      <th>0</th>\n",
       "      <td>Cloudy</td>\n",
       "      <td>London</td>\n",
       "      <td>214</td>\n",
       "      <td>214</td>\n",
       "      <td>214</td>\n",
       "      <td>214</td>\n",
       "      <td>214</td>\n",
       "      <td>214</td>\n",
       "      <td>214</td>\n",
       "      <td>214</td>\n",
       "      <td>214</td>\n",
       "      <td>214</td>\n",
       "      <td>214</td>\n",
       "      <td>214</td>\n",
       "      <td>214</td>\n",
       "    </tr>\n",
       "    <tr>\n",
       "      <th>1</th>\n",
       "      <td>Cloudy</td>\n",
       "      <td>Paris</td>\n",
       "      <td>196</td>\n",
       "      <td>196</td>\n",
       "      <td>196</td>\n",
       "      <td>196</td>\n",
       "      <td>196</td>\n",
       "      <td>196</td>\n",
       "      <td>196</td>\n",
       "      <td>196</td>\n",
       "      <td>196</td>\n",
       "      <td>196</td>\n",
       "      <td>196</td>\n",
       "      <td>196</td>\n",
       "      <td>196</td>\n",
       "    </tr>\n",
       "    <tr>\n",
       "      <th>2</th>\n",
       "      <td>Rainy</td>\n",
       "      <td>London</td>\n",
       "      <td>1</td>\n",
       "      <td>1</td>\n",
       "      <td>1</td>\n",
       "      <td>1</td>\n",
       "      <td>1</td>\n",
       "      <td>1</td>\n",
       "      <td>1</td>\n",
       "      <td>1</td>\n",
       "      <td>1</td>\n",
       "      <td>1</td>\n",
       "      <td>1</td>\n",
       "      <td>1</td>\n",
       "      <td>1</td>\n",
       "    </tr>\n",
       "    <tr>\n",
       "      <th>3</th>\n",
       "      <td>Rainy</td>\n",
       "      <td>Paris</td>\n",
       "      <td>4</td>\n",
       "      <td>4</td>\n",
       "      <td>4</td>\n",
       "      <td>4</td>\n",
       "      <td>4</td>\n",
       "      <td>4</td>\n",
       "      <td>4</td>\n",
       "      <td>4</td>\n",
       "      <td>4</td>\n",
       "      <td>4</td>\n",
       "      <td>4</td>\n",
       "      <td>4</td>\n",
       "      <td>4</td>\n",
       "    </tr>\n",
       "    <tr>\n",
       "      <th>4</th>\n",
       "      <td>Snowy</td>\n",
       "      <td>Paris</td>\n",
       "      <td>2</td>\n",
       "      <td>2</td>\n",
       "      <td>2</td>\n",
       "      <td>2</td>\n",
       "      <td>2</td>\n",
       "      <td>2</td>\n",
       "      <td>2</td>\n",
       "      <td>2</td>\n",
       "      <td>2</td>\n",
       "      <td>2</td>\n",
       "      <td>2</td>\n",
       "      <td>2</td>\n",
       "      <td>2</td>\n",
       "    </tr>\n",
       "    <tr>\n",
       "      <th>5</th>\n",
       "      <td>Sunny</td>\n",
       "      <td>London</td>\n",
       "      <td>150</td>\n",
       "      <td>150</td>\n",
       "      <td>150</td>\n",
       "      <td>150</td>\n",
       "      <td>150</td>\n",
       "      <td>150</td>\n",
       "      <td>150</td>\n",
       "      <td>150</td>\n",
       "      <td>150</td>\n",
       "      <td>150</td>\n",
       "      <td>150</td>\n",
       "      <td>150</td>\n",
       "      <td>150</td>\n",
       "    </tr>\n",
       "    <tr>\n",
       "      <th>6</th>\n",
       "      <td>Sunny</td>\n",
       "      <td>Paris</td>\n",
       "      <td>163</td>\n",
       "      <td>163</td>\n",
       "      <td>163</td>\n",
       "      <td>163</td>\n",
       "      <td>163</td>\n",
       "      <td>163</td>\n",
       "      <td>163</td>\n",
       "      <td>163</td>\n",
       "      <td>163</td>\n",
       "      <td>163</td>\n",
       "      <td>163</td>\n",
       "      <td>163</td>\n",
       "      <td>163</td>\n",
       "    </tr>\n",
       "  </tbody>\n",
       "</table>\n",
       "</div>"
      ],
      "text/plain": [
       "  day_condition_simple    town  date  avgtempC  mintempC  maxtempC  precipMM  \\\n",
       "0               Cloudy  London   214       214       214       214       214   \n",
       "1               Cloudy   Paris   196       196       196       196       196   \n",
       "2                Rainy  London     1         1         1         1         1   \n",
       "3                Rainy   Paris     4         4         4         4         4   \n",
       "4                Snowy   Paris     2         2         2         2         2   \n",
       "5                Sunny  London   150       150       150       150       150   \n",
       "6                Sunny   Paris   163       163       163       163       163   \n",
       "\n",
       "   weatherCode  cloudcover  sunHour  date_index  month  total_hour_in_a_day  \\\n",
       "0          214         214      214         214    214                  214   \n",
       "1          196         196      196         196    196                  196   \n",
       "2            1           1        1           1      1                    1   \n",
       "3            4           4        4           4      4                    4   \n",
       "4            2           2        2           2      2                    2   \n",
       "5          150         150      150         150    150                  150   \n",
       "6          163         163      163         163    163                  163   \n",
       "\n",
       "   overhead_code  daycondition  \n",
       "0            214           214  \n",
       "1            196           196  \n",
       "2              1             1  \n",
       "3              4             4  \n",
       "4              2             2  \n",
       "5            150           150  \n",
       "6            163           163  "
      ]
     },
     "execution_count": 116,
     "metadata": {},
     "output_type": "execute_result"
    }
   ],
   "source": [
    "weather_data_merged.groupby(['day_condition_simple','town']).count().reset_index()"
   ]
  },
  {
   "cell_type": "code",
   "execution_count": 131,
   "metadata": {},
   "outputs": [
    {
     "data": {
      "image/png": "[encoded data removed]",
      "text/plain": [
       "<Figure size 1080x576 with 1 Axes>"
      ]
     },
     "metadata": {
      "needs_background": "light"
     },
     "output_type": "display_data"
    }
   ],
   "source": [
    "\n",
    "\n",
    "fig = plt.figure(figsize=(15,8))\n",
    "#ax2=sns.barplot(y=\"month\", x=\"total_hour_in_a_day\", data=weather_data, hue='town',linewidth=2.5,orient='h',color='grey')\n",
    "ax1= sns.barplot(y=\"day_condition_simple\", x=\"date\", data=weather_data_merged.groupby(['day_condition_simple','town']).count().reset_index(), hue='town',linewidth=2.5,orient='h')\n",
    "ax1.set_xticks(np.linspace(0, 230, num=20))\n",
    "ax1.set_xticklabels([int(x) for x in np.linspace(0, 230, num=20)])\n",
    "ax1.set_xlabel(\"Days\")\n",
    "ax1.set_ylabel(\"\")\n",
    "ax1.set_title(\"Day condition in the year | PARIS vs LONDON\")\n",
    "fig.savefig('daycondition.png', dpi = 300)\n"
   ]
  },
  {
   "cell_type": "markdown",
   "metadata": {},
   "source": [
    "according to the temperature and\n",
    "amount of rainfall, the month to visit is July and the best place is London.\n",
    "\n",
    "\n"
   ]
  },
  {
   "cell_type": "markdown",
   "metadata": {},
   "source": [
    "The best time to visit both cities  is certainly July. I am taking my holidays in three weeks.According to our study, it seems that London is less cold than Paris in December. Do You know what? I have already been to Paris several time.  So I have just decided to go to London for Christmas Holidays. \n",
    "\n",
    "What about you ?"
   ]
  }
 ],
 "metadata": {
  "kernelspec": {
   "display_name": "Python",
   "language": "python",
   "name": "conda-env-python-py"
  },
  "language_info": {
   "codemirror_mode": {
    "name": "ipython",
    "version": 3
   },
   "file_extension": ".py",
   "mimetype": "text/x-python",
   "name": "python",
   "nbconvert_exporter": "python",
   "pygments_lexer": "ipython3",
   "version": "3.6.7"
  },
  "widgets": {
   "state": {},
   "version": "1.1.2"
  }
 },
 "nbformat": 4,
 "nbformat_minor": 4
}
